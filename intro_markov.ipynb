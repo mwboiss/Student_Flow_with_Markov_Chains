{
 "cells": [
  {
   "cell_type": "code",
   "execution_count": 7,
   "id": "560a758b-452c-4d89-9b63-aa2af212c5e8",
   "metadata": {},
   "outputs": [],
   "source": [
    "# Transition Probabilities\n",
    "p_ss = 0.8\n",
    "p_sr = 0.2\n",
    "p_rs = 0.4\n",
    "p_rr = 0.6"
   ]
  },
  {
   "cell_type": "code",
   "execution_count": 8,
   "id": "3a362b41-5522-4c72-a865-ce0ba9c6f99e",
   "metadata": {},
   "outputs": [],
   "source": [
    "# Initial Probabilities\n",
    "p_s = 2/3\n",
    "p_r = 1/3"
   ]
  },
  {
   "cell_type": "code",
   "execution_count": 9,
   "id": "fc2d1337-c860-4946-bab8-973eed09f60d",
   "metadata": {},
   "outputs": [],
   "source": [
    "# Emission Probabilities\n",
    "p_sh = 0.8\n",
    "p_sg = 0.2\n",
    "p_rh = 0.4\n",
    "p_rg = 0.6"
   ]
  },
  {
   "cell_type": "code",
   "execution_count": 15,
   "id": "7315bf87-ba21-4208-9dbc-c40fbca66848",
   "metadata": {},
   "outputs": [],
   "source": [
    "moods = ['G','G','G','H','G','G']\n",
    "probabilities = []\n",
    "weather = []"
   ]
  },
  {
   "cell_type": "code",
   "execution_count": 16,
   "id": "1cb62cc7-8456-4f5a-990a-2453ea0eddb7",
   "metadata": {},
   "outputs": [],
   "source": [
    "if moods[0] == 'H':\n",
    "    probabilities.append((p_s * p_sh, p_r * p_rh))\n",
    "else:\n",
    "    probabilities.append((p_s * p_sg, p_r * p_rg))"
   ]
  },
  {
   "cell_type": "code",
   "execution_count": 17,
   "id": "8f0777d9-6a94-40af-8e85-29fe3412adab",
   "metadata": {},
   "outputs": [],
   "source": [
    "for i in range(1,len(moods)):\n",
    "    yesterday_sunny, yesterday_rainy = probabilities[-1]\n",
    "    if moods[i] == 'H':\n",
    "        today_sunny = max(yesterday_sunny * p_ss * p_sh, yesterday_rainy * p_rs * p_sh)\n",
    "        today_rainy = max(yesterday_sunny * p_sr * p_rh, yesterday_rainy * p_rr * p_rh)\n",
    "        probabilities.append((today_sunny, today_rainy))\n",
    "    else:\n",
    "        today_sunny = max(yesterday_sunny * p_ss * p_sg, yesterday_rainy * p_rs * p_sg)\n",
    "        today_rainy = max(yesterday_sunny * p_sr * p_rg, yesterday_rainy * p_rr * p_sg)\n",
    "        probabilities.append((today_sunny, today_rainy))"
   ]
  },
  {
   "cell_type": "code",
   "execution_count": 18,
   "id": "7f9c5d57-2526-4617-8b2c-4f0ef841be54",
   "metadata": {},
   "outputs": [],
   "source": [
    "for p in probabilities:\n",
    "    if p[0] > p[1]:\n",
    "        weather.append('S')\n",
    "    else:\n",
    "        weather.append('R')"
   ]
  },
  {
   "cell_type": "code",
   "execution_count": 19,
   "id": "19993319-2185-44b8-95ea-92f1052c6319",
   "metadata": {},
   "outputs": [
    {
     "data": {
      "text/plain": [
       "['R', 'R', 'S', 'S', 'S', 'S']"
      ]
     },
     "execution_count": 19,
     "metadata": {},
     "output_type": "execute_result"
    }
   ],
   "source": [
    "weather"
   ]
  },
  {
   "cell_type": "code",
   "execution_count": null,
   "id": "17c85971-68fd-4fd7-b740-4eaf42f716e3",
   "metadata": {},
   "outputs": [],
   "source": []
  }
 ],
 "metadata": {
  "kernelspec": {
   "display_name": "Python 3 (ipykernel)",
   "language": "python",
   "name": "python3"
  },
  "language_info": {
   "codemirror_mode": {
    "name": "ipython",
    "version": 3
   },
   "file_extension": ".py",
   "mimetype": "text/x-python",
   "name": "python",
   "nbconvert_exporter": "python",
   "pygments_lexer": "ipython3",
   "version": "3.9.7"
  }
 },
 "nbformat": 4,
 "nbformat_minor": 5
}
