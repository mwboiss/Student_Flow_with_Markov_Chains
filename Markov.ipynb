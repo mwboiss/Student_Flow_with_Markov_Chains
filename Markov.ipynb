{
 "cells": [
  {
   "cell_type": "markdown",
   "id": "31973674-9974-4a97-aabe-43db26abcaf7",
   "metadata": {},
   "source": [
    "# Student flow through Markov Chains"
   ]
  },
  {
   "cell_type": "code",
   "execution_count": 2,
   "id": "0dabf686-dac5-4007-b137-3f98f752430f",
   "metadata": {},
   "outputs": [],
   "source": [
    "import pandas as pd\n",
    "import numpy as np\n",
    "import seaborn as sns\n",
    "import matplotlib.pyplot as plt"
   ]
  },
  {
   "cell_type": "markdown",
   "id": "749a5a95-13b8-457f-ae86-b48f49ad7d0c",
   "metadata": {
    "tags": []
   },
   "source": [
    "## Simulating Student Data"
   ]
  },
  {
   "cell_type": "code",
   "execution_count": 3,
   "id": "d48725d8-9377-48cf-8153-21b5ca9952e4",
   "metadata": {},
   "outputs": [],
   "source": [
    "# Creates a Dataframe that allocates possible credits in a semester.\n",
    "df = pd.DataFrame(np.random.choice([0,0,0,0,0,0,0,0,0,0,3,4,5,6,7,8,9,10,11,12,13,14,15,16,17,18],300_000).reshape(10_000,30))"
   ]
  },
  {
   "cell_type": "markdown",
   "id": "6ffbb591-33b5-47c0-8336-fd8e47651320",
   "metadata": {},
   "source": [
    "This does not account for the summer semesters having a lower credit requirement and does not actually reflect student behavior.\n",
    "- Fall, Spring Max = 18\n",
    "- Summer Max = 12"
   ]
  },
  {
   "cell_type": "code",
   "execution_count": 4,
   "id": "d8d80d1a-3753-4dcc-9588-421062155f72",
   "metadata": {},
   "outputs": [
    {
     "data": {
      "text/html": [
       "<div>\n",
       "<style scoped>\n",
       "    .dataframe tbody tr th:only-of-type {\n",
       "        vertical-align: middle;\n",
       "    }\n",
       "\n",
       "    .dataframe tbody tr th {\n",
       "        vertical-align: top;\n",
       "    }\n",
       "\n",
       "    .dataframe thead th {\n",
       "        text-align: right;\n",
       "    }\n",
       "</style>\n",
       "<table border=\"1\" class=\"dataframe\">\n",
       "  <thead>\n",
       "    <tr style=\"text-align: right;\">\n",
       "      <th></th>\n",
       "      <th>0</th>\n",
       "      <th>1</th>\n",
       "      <th>2</th>\n",
       "      <th>3</th>\n",
       "      <th>4</th>\n",
       "      <th>5</th>\n",
       "      <th>6</th>\n",
       "      <th>7</th>\n",
       "      <th>8</th>\n",
       "      <th>9</th>\n",
       "      <th>...</th>\n",
       "      <th>20</th>\n",
       "      <th>21</th>\n",
       "      <th>22</th>\n",
       "      <th>23</th>\n",
       "      <th>24</th>\n",
       "      <th>25</th>\n",
       "      <th>26</th>\n",
       "      <th>27</th>\n",
       "      <th>28</th>\n",
       "      <th>29</th>\n",
       "    </tr>\n",
       "  </thead>\n",
       "  <tbody>\n",
       "    <tr>\n",
       "      <th>0</th>\n",
       "      <td>3</td>\n",
       "      <td>0</td>\n",
       "      <td>3</td>\n",
       "      <td>12</td>\n",
       "      <td>0</td>\n",
       "      <td>8</td>\n",
       "      <td>0</td>\n",
       "      <td>4</td>\n",
       "      <td>9</td>\n",
       "      <td>12</td>\n",
       "      <td>...</td>\n",
       "      <td>12</td>\n",
       "      <td>0</td>\n",
       "      <td>4</td>\n",
       "      <td>3</td>\n",
       "      <td>14</td>\n",
       "      <td>4</td>\n",
       "      <td>0</td>\n",
       "      <td>10</td>\n",
       "      <td>0</td>\n",
       "      <td>14</td>\n",
       "    </tr>\n",
       "    <tr>\n",
       "      <th>1</th>\n",
       "      <td>14</td>\n",
       "      <td>0</td>\n",
       "      <td>4</td>\n",
       "      <td>0</td>\n",
       "      <td>0</td>\n",
       "      <td>7</td>\n",
       "      <td>0</td>\n",
       "      <td>3</td>\n",
       "      <td>9</td>\n",
       "      <td>0</td>\n",
       "      <td>...</td>\n",
       "      <td>0</td>\n",
       "      <td>17</td>\n",
       "      <td>0</td>\n",
       "      <td>0</td>\n",
       "      <td>18</td>\n",
       "      <td>0</td>\n",
       "      <td>0</td>\n",
       "      <td>0</td>\n",
       "      <td>14</td>\n",
       "      <td>5</td>\n",
       "    </tr>\n",
       "    <tr>\n",
       "      <th>2</th>\n",
       "      <td>0</td>\n",
       "      <td>0</td>\n",
       "      <td>5</td>\n",
       "      <td>4</td>\n",
       "      <td>4</td>\n",
       "      <td>13</td>\n",
       "      <td>17</td>\n",
       "      <td>7</td>\n",
       "      <td>0</td>\n",
       "      <td>3</td>\n",
       "      <td>...</td>\n",
       "      <td>9</td>\n",
       "      <td>11</td>\n",
       "      <td>0</td>\n",
       "      <td>6</td>\n",
       "      <td>0</td>\n",
       "      <td>0</td>\n",
       "      <td>0</td>\n",
       "      <td>4</td>\n",
       "      <td>4</td>\n",
       "      <td>11</td>\n",
       "    </tr>\n",
       "    <tr>\n",
       "      <th>3</th>\n",
       "      <td>10</td>\n",
       "      <td>13</td>\n",
       "      <td>6</td>\n",
       "      <td>0</td>\n",
       "      <td>0</td>\n",
       "      <td>0</td>\n",
       "      <td>11</td>\n",
       "      <td>0</td>\n",
       "      <td>0</td>\n",
       "      <td>18</td>\n",
       "      <td>...</td>\n",
       "      <td>8</td>\n",
       "      <td>14</td>\n",
       "      <td>0</td>\n",
       "      <td>0</td>\n",
       "      <td>7</td>\n",
       "      <td>0</td>\n",
       "      <td>5</td>\n",
       "      <td>0</td>\n",
       "      <td>16</td>\n",
       "      <td>8</td>\n",
       "    </tr>\n",
       "    <tr>\n",
       "      <th>4</th>\n",
       "      <td>18</td>\n",
       "      <td>5</td>\n",
       "      <td>0</td>\n",
       "      <td>0</td>\n",
       "      <td>5</td>\n",
       "      <td>11</td>\n",
       "      <td>3</td>\n",
       "      <td>18</td>\n",
       "      <td>0</td>\n",
       "      <td>0</td>\n",
       "      <td>...</td>\n",
       "      <td>16</td>\n",
       "      <td>0</td>\n",
       "      <td>12</td>\n",
       "      <td>6</td>\n",
       "      <td>0</td>\n",
       "      <td>5</td>\n",
       "      <td>10</td>\n",
       "      <td>17</td>\n",
       "      <td>14</td>\n",
       "      <td>16</td>\n",
       "    </tr>\n",
       "    <tr>\n",
       "      <th>...</th>\n",
       "      <td>...</td>\n",
       "      <td>...</td>\n",
       "      <td>...</td>\n",
       "      <td>...</td>\n",
       "      <td>...</td>\n",
       "      <td>...</td>\n",
       "      <td>...</td>\n",
       "      <td>...</td>\n",
       "      <td>...</td>\n",
       "      <td>...</td>\n",
       "      <td>...</td>\n",
       "      <td>...</td>\n",
       "      <td>...</td>\n",
       "      <td>...</td>\n",
       "      <td>...</td>\n",
       "      <td>...</td>\n",
       "      <td>...</td>\n",
       "      <td>...</td>\n",
       "      <td>...</td>\n",
       "      <td>...</td>\n",
       "      <td>...</td>\n",
       "    </tr>\n",
       "    <tr>\n",
       "      <th>9995</th>\n",
       "      <td>14</td>\n",
       "      <td>0</td>\n",
       "      <td>11</td>\n",
       "      <td>4</td>\n",
       "      <td>13</td>\n",
       "      <td>18</td>\n",
       "      <td>0</td>\n",
       "      <td>16</td>\n",
       "      <td>0</td>\n",
       "      <td>7</td>\n",
       "      <td>...</td>\n",
       "      <td>0</td>\n",
       "      <td>14</td>\n",
       "      <td>0</td>\n",
       "      <td>14</td>\n",
       "      <td>4</td>\n",
       "      <td>18</td>\n",
       "      <td>0</td>\n",
       "      <td>15</td>\n",
       "      <td>13</td>\n",
       "      <td>10</td>\n",
       "    </tr>\n",
       "    <tr>\n",
       "      <th>9996</th>\n",
       "      <td>7</td>\n",
       "      <td>0</td>\n",
       "      <td>11</td>\n",
       "      <td>0</td>\n",
       "      <td>9</td>\n",
       "      <td>9</td>\n",
       "      <td>0</td>\n",
       "      <td>4</td>\n",
       "      <td>17</td>\n",
       "      <td>12</td>\n",
       "      <td>...</td>\n",
       "      <td>14</td>\n",
       "      <td>15</td>\n",
       "      <td>0</td>\n",
       "      <td>6</td>\n",
       "      <td>16</td>\n",
       "      <td>13</td>\n",
       "      <td>3</td>\n",
       "      <td>11</td>\n",
       "      <td>3</td>\n",
       "      <td>0</td>\n",
       "    </tr>\n",
       "    <tr>\n",
       "      <th>9997</th>\n",
       "      <td>0</td>\n",
       "      <td>0</td>\n",
       "      <td>18</td>\n",
       "      <td>0</td>\n",
       "      <td>8</td>\n",
       "      <td>7</td>\n",
       "      <td>0</td>\n",
       "      <td>16</td>\n",
       "      <td>0</td>\n",
       "      <td>0</td>\n",
       "      <td>...</td>\n",
       "      <td>10</td>\n",
       "      <td>14</td>\n",
       "      <td>12</td>\n",
       "      <td>0</td>\n",
       "      <td>18</td>\n",
       "      <td>17</td>\n",
       "      <td>0</td>\n",
       "      <td>0</td>\n",
       "      <td>9</td>\n",
       "      <td>15</td>\n",
       "    </tr>\n",
       "    <tr>\n",
       "      <th>9998</th>\n",
       "      <td>0</td>\n",
       "      <td>10</td>\n",
       "      <td>0</td>\n",
       "      <td>0</td>\n",
       "      <td>0</td>\n",
       "      <td>12</td>\n",
       "      <td>17</td>\n",
       "      <td>18</td>\n",
       "      <td>0</td>\n",
       "      <td>9</td>\n",
       "      <td>...</td>\n",
       "      <td>6</td>\n",
       "      <td>12</td>\n",
       "      <td>8</td>\n",
       "      <td>7</td>\n",
       "      <td>7</td>\n",
       "      <td>0</td>\n",
       "      <td>13</td>\n",
       "      <td>0</td>\n",
       "      <td>0</td>\n",
       "      <td>0</td>\n",
       "    </tr>\n",
       "    <tr>\n",
       "      <th>9999</th>\n",
       "      <td>0</td>\n",
       "      <td>0</td>\n",
       "      <td>6</td>\n",
       "      <td>0</td>\n",
       "      <td>5</td>\n",
       "      <td>16</td>\n",
       "      <td>14</td>\n",
       "      <td>0</td>\n",
       "      <td>10</td>\n",
       "      <td>16</td>\n",
       "      <td>...</td>\n",
       "      <td>13</td>\n",
       "      <td>0</td>\n",
       "      <td>13</td>\n",
       "      <td>0</td>\n",
       "      <td>0</td>\n",
       "      <td>0</td>\n",
       "      <td>18</td>\n",
       "      <td>16</td>\n",
       "      <td>10</td>\n",
       "      <td>7</td>\n",
       "    </tr>\n",
       "  </tbody>\n",
       "</table>\n",
       "<p>10000 rows × 30 columns</p>\n",
       "</div>"
      ],
      "text/plain": [
       "      0   1   2   3   4   5   6   7   8   9   ...  20  21  22  23  24  25  26  \\\n",
       "0      3   0   3  12   0   8   0   4   9  12  ...  12   0   4   3  14   4   0   \n",
       "1     14   0   4   0   0   7   0   3   9   0  ...   0  17   0   0  18   0   0   \n",
       "2      0   0   5   4   4  13  17   7   0   3  ...   9  11   0   6   0   0   0   \n",
       "3     10  13   6   0   0   0  11   0   0  18  ...   8  14   0   0   7   0   5   \n",
       "4     18   5   0   0   5  11   3  18   0   0  ...  16   0  12   6   0   5  10   \n",
       "...   ..  ..  ..  ..  ..  ..  ..  ..  ..  ..  ...  ..  ..  ..  ..  ..  ..  ..   \n",
       "9995  14   0  11   4  13  18   0  16   0   7  ...   0  14   0  14   4  18   0   \n",
       "9996   7   0  11   0   9   9   0   4  17  12  ...  14  15   0   6  16  13   3   \n",
       "9997   0   0  18   0   8   7   0  16   0   0  ...  10  14  12   0  18  17   0   \n",
       "9998   0  10   0   0   0  12  17  18   0   9  ...   6  12   8   7   7   0  13   \n",
       "9999   0   0   6   0   5  16  14   0  10  16  ...  13   0  13   0   0   0  18   \n",
       "\n",
       "      27  28  29  \n",
       "0     10   0  14  \n",
       "1      0  14   5  \n",
       "2      4   4  11  \n",
       "3      0  16   8  \n",
       "4     17  14  16  \n",
       "...   ..  ..  ..  \n",
       "9995  15  13  10  \n",
       "9996  11   3   0  \n",
       "9997   0   9  15  \n",
       "9998   0   0   0  \n",
       "9999  16  10   7  \n",
       "\n",
       "[10000 rows x 30 columns]"
      ]
     },
     "execution_count": 4,
     "metadata": {},
     "output_type": "execute_result"
    }
   ],
   "source": [
    "df"
   ]
  },
  {
   "cell_type": "code",
   "execution_count": 5,
   "id": "c0b5b13b-09ec-4ccf-a85a-d61c3dd13211",
   "metadata": {},
   "outputs": [],
   "source": [
    "# Sums up the count of students credits over time\n",
    "a = 0\n",
    "for a in range(len(df)):\n",
    "    z = 0\n",
    "    nlist = []\n",
    "    for x in df.loc[a]:\n",
    "        z += x\n",
    "        x = z\n",
    "        nlist.append(x)\n",
    "    df.loc[a] = nlist"
   ]
  },
  {
   "cell_type": "code",
   "execution_count": 6,
   "id": "c662fbf9-92a2-4420-981c-a91d3398cdc1",
   "metadata": {},
   "outputs": [
    {
     "data": {
      "text/plain": [
       "122.4444"
      ]
     },
     "execution_count": 6,
     "metadata": {},
     "output_type": "execute_result"
    }
   ],
   "source": [
    "# The average time a student takes to get to 120 credits(graduation)\n",
    "df[18].mean()"
   ]
  },
  {
   "cell_type": "markdown",
   "id": "76e57873-6737-49e8-bc27-b4d2cd30f657",
   "metadata": {},
   "source": [
    "With current np choice results the average gradution is 6 years"
   ]
  },
  {
   "cell_type": "code",
   "execution_count": 7,
   "id": "0074ff19-5862-417e-8bfc-5c88fb8e7c56",
   "metadata": {},
   "outputs": [
    {
     "data": {
      "text/html": [
       "<div>\n",
       "<style scoped>\n",
       "    .dataframe tbody tr th:only-of-type {\n",
       "        vertical-align: middle;\n",
       "    }\n",
       "\n",
       "    .dataframe tbody tr th {\n",
       "        vertical-align: top;\n",
       "    }\n",
       "\n",
       "    .dataframe thead th {\n",
       "        text-align: right;\n",
       "    }\n",
       "</style>\n",
       "<table border=\"1\" class=\"dataframe\">\n",
       "  <thead>\n",
       "    <tr style=\"text-align: right;\">\n",
       "      <th></th>\n",
       "      <th>0</th>\n",
       "      <th>1</th>\n",
       "      <th>2</th>\n",
       "      <th>3</th>\n",
       "      <th>4</th>\n",
       "      <th>5</th>\n",
       "      <th>6</th>\n",
       "      <th>7</th>\n",
       "      <th>8</th>\n",
       "      <th>9</th>\n",
       "      <th>...</th>\n",
       "      <th>20</th>\n",
       "      <th>21</th>\n",
       "      <th>22</th>\n",
       "      <th>23</th>\n",
       "      <th>24</th>\n",
       "      <th>25</th>\n",
       "      <th>26</th>\n",
       "      <th>27</th>\n",
       "      <th>28</th>\n",
       "      <th>29</th>\n",
       "    </tr>\n",
       "  </thead>\n",
       "  <tbody>\n",
       "    <tr>\n",
       "      <th>0</th>\n",
       "      <td>3</td>\n",
       "      <td>3</td>\n",
       "      <td>6</td>\n",
       "      <td>18</td>\n",
       "      <td>18</td>\n",
       "      <td>26</td>\n",
       "      <td>26</td>\n",
       "      <td>30</td>\n",
       "      <td>39</td>\n",
       "      <td>51</td>\n",
       "      <td>...</td>\n",
       "      <td>96</td>\n",
       "      <td>96</td>\n",
       "      <td>100</td>\n",
       "      <td>103</td>\n",
       "      <td>117</td>\n",
       "      <td>121</td>\n",
       "      <td>121</td>\n",
       "      <td>131</td>\n",
       "      <td>131</td>\n",
       "      <td>145</td>\n",
       "    </tr>\n",
       "    <tr>\n",
       "      <th>1</th>\n",
       "      <td>14</td>\n",
       "      <td>14</td>\n",
       "      <td>18</td>\n",
       "      <td>18</td>\n",
       "      <td>18</td>\n",
       "      <td>25</td>\n",
       "      <td>25</td>\n",
       "      <td>28</td>\n",
       "      <td>37</td>\n",
       "      <td>37</td>\n",
       "      <td>...</td>\n",
       "      <td>108</td>\n",
       "      <td>125</td>\n",
       "      <td>125</td>\n",
       "      <td>125</td>\n",
       "      <td>143</td>\n",
       "      <td>143</td>\n",
       "      <td>143</td>\n",
       "      <td>143</td>\n",
       "      <td>157</td>\n",
       "      <td>162</td>\n",
       "    </tr>\n",
       "    <tr>\n",
       "      <th>2</th>\n",
       "      <td>0</td>\n",
       "      <td>0</td>\n",
       "      <td>5</td>\n",
       "      <td>9</td>\n",
       "      <td>13</td>\n",
       "      <td>26</td>\n",
       "      <td>43</td>\n",
       "      <td>50</td>\n",
       "      <td>50</td>\n",
       "      <td>53</td>\n",
       "      <td>...</td>\n",
       "      <td>130</td>\n",
       "      <td>141</td>\n",
       "      <td>141</td>\n",
       "      <td>147</td>\n",
       "      <td>147</td>\n",
       "      <td>147</td>\n",
       "      <td>147</td>\n",
       "      <td>151</td>\n",
       "      <td>155</td>\n",
       "      <td>166</td>\n",
       "    </tr>\n",
       "    <tr>\n",
       "      <th>3</th>\n",
       "      <td>10</td>\n",
       "      <td>23</td>\n",
       "      <td>29</td>\n",
       "      <td>29</td>\n",
       "      <td>29</td>\n",
       "      <td>29</td>\n",
       "      <td>40</td>\n",
       "      <td>40</td>\n",
       "      <td>40</td>\n",
       "      <td>58</td>\n",
       "      <td>...</td>\n",
       "      <td>139</td>\n",
       "      <td>153</td>\n",
       "      <td>153</td>\n",
       "      <td>153</td>\n",
       "      <td>160</td>\n",
       "      <td>160</td>\n",
       "      <td>165</td>\n",
       "      <td>165</td>\n",
       "      <td>181</td>\n",
       "      <td>189</td>\n",
       "    </tr>\n",
       "    <tr>\n",
       "      <th>4</th>\n",
       "      <td>18</td>\n",
       "      <td>23</td>\n",
       "      <td>23</td>\n",
       "      <td>23</td>\n",
       "      <td>28</td>\n",
       "      <td>39</td>\n",
       "      <td>42</td>\n",
       "      <td>60</td>\n",
       "      <td>60</td>\n",
       "      <td>60</td>\n",
       "      <td>...</td>\n",
       "      <td>166</td>\n",
       "      <td>166</td>\n",
       "      <td>178</td>\n",
       "      <td>184</td>\n",
       "      <td>184</td>\n",
       "      <td>189</td>\n",
       "      <td>199</td>\n",
       "      <td>216</td>\n",
       "      <td>230</td>\n",
       "      <td>246</td>\n",
       "    </tr>\n",
       "    <tr>\n",
       "      <th>...</th>\n",
       "      <td>...</td>\n",
       "      <td>...</td>\n",
       "      <td>...</td>\n",
       "      <td>...</td>\n",
       "      <td>...</td>\n",
       "      <td>...</td>\n",
       "      <td>...</td>\n",
       "      <td>...</td>\n",
       "      <td>...</td>\n",
       "      <td>...</td>\n",
       "      <td>...</td>\n",
       "      <td>...</td>\n",
       "      <td>...</td>\n",
       "      <td>...</td>\n",
       "      <td>...</td>\n",
       "      <td>...</td>\n",
       "      <td>...</td>\n",
       "      <td>...</td>\n",
       "      <td>...</td>\n",
       "      <td>...</td>\n",
       "      <td>...</td>\n",
       "    </tr>\n",
       "    <tr>\n",
       "      <th>9995</th>\n",
       "      <td>14</td>\n",
       "      <td>14</td>\n",
       "      <td>25</td>\n",
       "      <td>29</td>\n",
       "      <td>42</td>\n",
       "      <td>60</td>\n",
       "      <td>60</td>\n",
       "      <td>76</td>\n",
       "      <td>76</td>\n",
       "      <td>83</td>\n",
       "      <td>...</td>\n",
       "      <td>173</td>\n",
       "      <td>187</td>\n",
       "      <td>187</td>\n",
       "      <td>201</td>\n",
       "      <td>205</td>\n",
       "      <td>223</td>\n",
       "      <td>223</td>\n",
       "      <td>238</td>\n",
       "      <td>251</td>\n",
       "      <td>261</td>\n",
       "    </tr>\n",
       "    <tr>\n",
       "      <th>9996</th>\n",
       "      <td>7</td>\n",
       "      <td>7</td>\n",
       "      <td>18</td>\n",
       "      <td>18</td>\n",
       "      <td>27</td>\n",
       "      <td>36</td>\n",
       "      <td>36</td>\n",
       "      <td>40</td>\n",
       "      <td>57</td>\n",
       "      <td>69</td>\n",
       "      <td>...</td>\n",
       "      <td>135</td>\n",
       "      <td>150</td>\n",
       "      <td>150</td>\n",
       "      <td>156</td>\n",
       "      <td>172</td>\n",
       "      <td>185</td>\n",
       "      <td>188</td>\n",
       "      <td>199</td>\n",
       "      <td>202</td>\n",
       "      <td>202</td>\n",
       "    </tr>\n",
       "    <tr>\n",
       "      <th>9997</th>\n",
       "      <td>0</td>\n",
       "      <td>0</td>\n",
       "      <td>18</td>\n",
       "      <td>18</td>\n",
       "      <td>26</td>\n",
       "      <td>33</td>\n",
       "      <td>33</td>\n",
       "      <td>49</td>\n",
       "      <td>49</td>\n",
       "      <td>49</td>\n",
       "      <td>...</td>\n",
       "      <td>120</td>\n",
       "      <td>134</td>\n",
       "      <td>146</td>\n",
       "      <td>146</td>\n",
       "      <td>164</td>\n",
       "      <td>181</td>\n",
       "      <td>181</td>\n",
       "      <td>181</td>\n",
       "      <td>190</td>\n",
       "      <td>205</td>\n",
       "    </tr>\n",
       "    <tr>\n",
       "      <th>9998</th>\n",
       "      <td>0</td>\n",
       "      <td>10</td>\n",
       "      <td>10</td>\n",
       "      <td>10</td>\n",
       "      <td>10</td>\n",
       "      <td>22</td>\n",
       "      <td>39</td>\n",
       "      <td>57</td>\n",
       "      <td>57</td>\n",
       "      <td>66</td>\n",
       "      <td>...</td>\n",
       "      <td>104</td>\n",
       "      <td>116</td>\n",
       "      <td>124</td>\n",
       "      <td>131</td>\n",
       "      <td>138</td>\n",
       "      <td>138</td>\n",
       "      <td>151</td>\n",
       "      <td>151</td>\n",
       "      <td>151</td>\n",
       "      <td>151</td>\n",
       "    </tr>\n",
       "    <tr>\n",
       "      <th>9999</th>\n",
       "      <td>0</td>\n",
       "      <td>0</td>\n",
       "      <td>6</td>\n",
       "      <td>6</td>\n",
       "      <td>11</td>\n",
       "      <td>27</td>\n",
       "      <td>41</td>\n",
       "      <td>41</td>\n",
       "      <td>51</td>\n",
       "      <td>67</td>\n",
       "      <td>...</td>\n",
       "      <td>142</td>\n",
       "      <td>142</td>\n",
       "      <td>155</td>\n",
       "      <td>155</td>\n",
       "      <td>155</td>\n",
       "      <td>155</td>\n",
       "      <td>173</td>\n",
       "      <td>189</td>\n",
       "      <td>199</td>\n",
       "      <td>206</td>\n",
       "    </tr>\n",
       "  </tbody>\n",
       "</table>\n",
       "<p>10000 rows × 30 columns</p>\n",
       "</div>"
      ],
      "text/plain": [
       "      0   1   2   3   4   5   6   7   8   9   ...   20   21   22   23   24  \\\n",
       "0      3   3   6  18  18  26  26  30  39  51  ...   96   96  100  103  117   \n",
       "1     14  14  18  18  18  25  25  28  37  37  ...  108  125  125  125  143   \n",
       "2      0   0   5   9  13  26  43  50  50  53  ...  130  141  141  147  147   \n",
       "3     10  23  29  29  29  29  40  40  40  58  ...  139  153  153  153  160   \n",
       "4     18  23  23  23  28  39  42  60  60  60  ...  166  166  178  184  184   \n",
       "...   ..  ..  ..  ..  ..  ..  ..  ..  ..  ..  ...  ...  ...  ...  ...  ...   \n",
       "9995  14  14  25  29  42  60  60  76  76  83  ...  173  187  187  201  205   \n",
       "9996   7   7  18  18  27  36  36  40  57  69  ...  135  150  150  156  172   \n",
       "9997   0   0  18  18  26  33  33  49  49  49  ...  120  134  146  146  164   \n",
       "9998   0  10  10  10  10  22  39  57  57  66  ...  104  116  124  131  138   \n",
       "9999   0   0   6   6  11  27  41  41  51  67  ...  142  142  155  155  155   \n",
       "\n",
       "       25   26   27   28   29  \n",
       "0     121  121  131  131  145  \n",
       "1     143  143  143  157  162  \n",
       "2     147  147  151  155  166  \n",
       "3     160  165  165  181  189  \n",
       "4     189  199  216  230  246  \n",
       "...   ...  ...  ...  ...  ...  \n",
       "9995  223  223  238  251  261  \n",
       "9996  185  188  199  202  202  \n",
       "9997  181  181  181  190  205  \n",
       "9998  138  151  151  151  151  \n",
       "9999  155  173  189  199  206  \n",
       "\n",
       "[10000 rows x 30 columns]"
      ]
     },
     "execution_count": 7,
     "metadata": {},
     "output_type": "execute_result"
    }
   ],
   "source": [
    "df"
   ]
  },
  {
   "cell_type": "code",
   "execution_count": 8,
   "id": "04101a93-8904-4d16-a4f9-8422b64374e7",
   "metadata": {},
   "outputs": [],
   "source": [
    "# Allocate student states\n",
    "a = 0\n",
    "ndf = df\n",
    "for a in range(len(df)):\n",
    "    z = 0\n",
    "    nlist = []\n",
    "    for x in df.loc[a]:\n",
    "        if x >= 120:\n",
    "            y = 'Graduated'\n",
    "        elif x >= 105:\n",
    "            y = 'Senior_n'\n",
    "        elif x >= 90:\n",
    "            y = 'Senior_1'\n",
    "        elif x >= 75:\n",
    "            y = 'Junior_n'\n",
    "        elif x >= 60:\n",
    "            y = 'Junior_1'\n",
    "        elif x >= 45:\n",
    "            y = 'Sophmore_n'\n",
    "        elif x >= 30:\n",
    "            y = 'Sophmore_1'\n",
    "        elif x >= 15:\n",
    "            y = 'Freshmen_n'\n",
    "        else:\n",
    "            y = 'Freshmen_1'\n",
    "        nlist.append(y)\n",
    "        \n",
    "    ndf.loc[a] = nlist"
   ]
  },
  {
   "cell_type": "code",
   "execution_count": 9,
   "id": "ea293a3a-acc3-4693-a9e1-ca0a56c9fb46",
   "metadata": {},
   "outputs": [
    {
     "data": {
      "text/html": [
       "<div>\n",
       "<style scoped>\n",
       "    .dataframe tbody tr th:only-of-type {\n",
       "        vertical-align: middle;\n",
       "    }\n",
       "\n",
       "    .dataframe tbody tr th {\n",
       "        vertical-align: top;\n",
       "    }\n",
       "\n",
       "    .dataframe thead th {\n",
       "        text-align: right;\n",
       "    }\n",
       "</style>\n",
       "<table border=\"1\" class=\"dataframe\">\n",
       "  <thead>\n",
       "    <tr style=\"text-align: right;\">\n",
       "      <th></th>\n",
       "      <th>0</th>\n",
       "      <th>1</th>\n",
       "      <th>2</th>\n",
       "      <th>3</th>\n",
       "      <th>4</th>\n",
       "      <th>5</th>\n",
       "      <th>6</th>\n",
       "      <th>7</th>\n",
       "      <th>8</th>\n",
       "      <th>9</th>\n",
       "      <th>...</th>\n",
       "      <th>20</th>\n",
       "      <th>21</th>\n",
       "      <th>22</th>\n",
       "      <th>23</th>\n",
       "      <th>24</th>\n",
       "      <th>25</th>\n",
       "      <th>26</th>\n",
       "      <th>27</th>\n",
       "      <th>28</th>\n",
       "      <th>29</th>\n",
       "    </tr>\n",
       "  </thead>\n",
       "  <tbody>\n",
       "    <tr>\n",
       "      <th>0</th>\n",
       "      <td>Freshmen_1</td>\n",
       "      <td>Freshmen_1</td>\n",
       "      <td>Freshmen_1</td>\n",
       "      <td>Freshmen_n</td>\n",
       "      <td>Freshmen_n</td>\n",
       "      <td>Freshmen_n</td>\n",
       "      <td>Freshmen_n</td>\n",
       "      <td>Sophmore_1</td>\n",
       "      <td>Sophmore_1</td>\n",
       "      <td>Sophmore_n</td>\n",
       "      <td>...</td>\n",
       "      <td>Senior_1</td>\n",
       "      <td>Senior_1</td>\n",
       "      <td>Senior_1</td>\n",
       "      <td>Senior_1</td>\n",
       "      <td>Senior_n</td>\n",
       "      <td>Graduated</td>\n",
       "      <td>Graduated</td>\n",
       "      <td>Graduated</td>\n",
       "      <td>Graduated</td>\n",
       "      <td>Graduated</td>\n",
       "    </tr>\n",
       "    <tr>\n",
       "      <th>1</th>\n",
       "      <td>Freshmen_1</td>\n",
       "      <td>Freshmen_1</td>\n",
       "      <td>Freshmen_n</td>\n",
       "      <td>Freshmen_n</td>\n",
       "      <td>Freshmen_n</td>\n",
       "      <td>Freshmen_n</td>\n",
       "      <td>Freshmen_n</td>\n",
       "      <td>Freshmen_n</td>\n",
       "      <td>Sophmore_1</td>\n",
       "      <td>Sophmore_1</td>\n",
       "      <td>...</td>\n",
       "      <td>Senior_n</td>\n",
       "      <td>Graduated</td>\n",
       "      <td>Graduated</td>\n",
       "      <td>Graduated</td>\n",
       "      <td>Graduated</td>\n",
       "      <td>Graduated</td>\n",
       "      <td>Graduated</td>\n",
       "      <td>Graduated</td>\n",
       "      <td>Graduated</td>\n",
       "      <td>Graduated</td>\n",
       "    </tr>\n",
       "    <tr>\n",
       "      <th>2</th>\n",
       "      <td>Freshmen_1</td>\n",
       "      <td>Freshmen_1</td>\n",
       "      <td>Freshmen_1</td>\n",
       "      <td>Freshmen_1</td>\n",
       "      <td>Freshmen_1</td>\n",
       "      <td>Freshmen_n</td>\n",
       "      <td>Sophmore_1</td>\n",
       "      <td>Sophmore_n</td>\n",
       "      <td>Sophmore_n</td>\n",
       "      <td>Sophmore_n</td>\n",
       "      <td>...</td>\n",
       "      <td>Graduated</td>\n",
       "      <td>Graduated</td>\n",
       "      <td>Graduated</td>\n",
       "      <td>Graduated</td>\n",
       "      <td>Graduated</td>\n",
       "      <td>Graduated</td>\n",
       "      <td>Graduated</td>\n",
       "      <td>Graduated</td>\n",
       "      <td>Graduated</td>\n",
       "      <td>Graduated</td>\n",
       "    </tr>\n",
       "    <tr>\n",
       "      <th>3</th>\n",
       "      <td>Freshmen_1</td>\n",
       "      <td>Freshmen_n</td>\n",
       "      <td>Freshmen_n</td>\n",
       "      <td>Freshmen_n</td>\n",
       "      <td>Freshmen_n</td>\n",
       "      <td>Freshmen_n</td>\n",
       "      <td>Sophmore_1</td>\n",
       "      <td>Sophmore_1</td>\n",
       "      <td>Sophmore_1</td>\n",
       "      <td>Sophmore_n</td>\n",
       "      <td>...</td>\n",
       "      <td>Graduated</td>\n",
       "      <td>Graduated</td>\n",
       "      <td>Graduated</td>\n",
       "      <td>Graduated</td>\n",
       "      <td>Graduated</td>\n",
       "      <td>Graduated</td>\n",
       "      <td>Graduated</td>\n",
       "      <td>Graduated</td>\n",
       "      <td>Graduated</td>\n",
       "      <td>Graduated</td>\n",
       "    </tr>\n",
       "    <tr>\n",
       "      <th>4</th>\n",
       "      <td>Freshmen_n</td>\n",
       "      <td>Freshmen_n</td>\n",
       "      <td>Freshmen_n</td>\n",
       "      <td>Freshmen_n</td>\n",
       "      <td>Freshmen_n</td>\n",
       "      <td>Sophmore_1</td>\n",
       "      <td>Sophmore_1</td>\n",
       "      <td>Junior_1</td>\n",
       "      <td>Junior_1</td>\n",
       "      <td>Junior_1</td>\n",
       "      <td>...</td>\n",
       "      <td>Graduated</td>\n",
       "      <td>Graduated</td>\n",
       "      <td>Graduated</td>\n",
       "      <td>Graduated</td>\n",
       "      <td>Graduated</td>\n",
       "      <td>Graduated</td>\n",
       "      <td>Graduated</td>\n",
       "      <td>Graduated</td>\n",
       "      <td>Graduated</td>\n",
       "      <td>Graduated</td>\n",
       "    </tr>\n",
       "    <tr>\n",
       "      <th>...</th>\n",
       "      <td>...</td>\n",
       "      <td>...</td>\n",
       "      <td>...</td>\n",
       "      <td>...</td>\n",
       "      <td>...</td>\n",
       "      <td>...</td>\n",
       "      <td>...</td>\n",
       "      <td>...</td>\n",
       "      <td>...</td>\n",
       "      <td>...</td>\n",
       "      <td>...</td>\n",
       "      <td>...</td>\n",
       "      <td>...</td>\n",
       "      <td>...</td>\n",
       "      <td>...</td>\n",
       "      <td>...</td>\n",
       "      <td>...</td>\n",
       "      <td>...</td>\n",
       "      <td>...</td>\n",
       "      <td>...</td>\n",
       "      <td>...</td>\n",
       "    </tr>\n",
       "    <tr>\n",
       "      <th>9995</th>\n",
       "      <td>Freshmen_1</td>\n",
       "      <td>Freshmen_1</td>\n",
       "      <td>Freshmen_n</td>\n",
       "      <td>Freshmen_n</td>\n",
       "      <td>Sophmore_1</td>\n",
       "      <td>Junior_1</td>\n",
       "      <td>Junior_1</td>\n",
       "      <td>Junior_n</td>\n",
       "      <td>Junior_n</td>\n",
       "      <td>Junior_n</td>\n",
       "      <td>...</td>\n",
       "      <td>Graduated</td>\n",
       "      <td>Graduated</td>\n",
       "      <td>Graduated</td>\n",
       "      <td>Graduated</td>\n",
       "      <td>Graduated</td>\n",
       "      <td>Graduated</td>\n",
       "      <td>Graduated</td>\n",
       "      <td>Graduated</td>\n",
       "      <td>Graduated</td>\n",
       "      <td>Graduated</td>\n",
       "    </tr>\n",
       "    <tr>\n",
       "      <th>9996</th>\n",
       "      <td>Freshmen_1</td>\n",
       "      <td>Freshmen_1</td>\n",
       "      <td>Freshmen_n</td>\n",
       "      <td>Freshmen_n</td>\n",
       "      <td>Freshmen_n</td>\n",
       "      <td>Sophmore_1</td>\n",
       "      <td>Sophmore_1</td>\n",
       "      <td>Sophmore_1</td>\n",
       "      <td>Sophmore_n</td>\n",
       "      <td>Junior_1</td>\n",
       "      <td>...</td>\n",
       "      <td>Graduated</td>\n",
       "      <td>Graduated</td>\n",
       "      <td>Graduated</td>\n",
       "      <td>Graduated</td>\n",
       "      <td>Graduated</td>\n",
       "      <td>Graduated</td>\n",
       "      <td>Graduated</td>\n",
       "      <td>Graduated</td>\n",
       "      <td>Graduated</td>\n",
       "      <td>Graduated</td>\n",
       "    </tr>\n",
       "    <tr>\n",
       "      <th>9997</th>\n",
       "      <td>Freshmen_1</td>\n",
       "      <td>Freshmen_1</td>\n",
       "      <td>Freshmen_n</td>\n",
       "      <td>Freshmen_n</td>\n",
       "      <td>Freshmen_n</td>\n",
       "      <td>Sophmore_1</td>\n",
       "      <td>Sophmore_1</td>\n",
       "      <td>Sophmore_n</td>\n",
       "      <td>Sophmore_n</td>\n",
       "      <td>Sophmore_n</td>\n",
       "      <td>...</td>\n",
       "      <td>Graduated</td>\n",
       "      <td>Graduated</td>\n",
       "      <td>Graduated</td>\n",
       "      <td>Graduated</td>\n",
       "      <td>Graduated</td>\n",
       "      <td>Graduated</td>\n",
       "      <td>Graduated</td>\n",
       "      <td>Graduated</td>\n",
       "      <td>Graduated</td>\n",
       "      <td>Graduated</td>\n",
       "    </tr>\n",
       "    <tr>\n",
       "      <th>9998</th>\n",
       "      <td>Freshmen_1</td>\n",
       "      <td>Freshmen_1</td>\n",
       "      <td>Freshmen_1</td>\n",
       "      <td>Freshmen_1</td>\n",
       "      <td>Freshmen_1</td>\n",
       "      <td>Freshmen_n</td>\n",
       "      <td>Sophmore_1</td>\n",
       "      <td>Sophmore_n</td>\n",
       "      <td>Sophmore_n</td>\n",
       "      <td>Junior_1</td>\n",
       "      <td>...</td>\n",
       "      <td>Senior_1</td>\n",
       "      <td>Senior_n</td>\n",
       "      <td>Graduated</td>\n",
       "      <td>Graduated</td>\n",
       "      <td>Graduated</td>\n",
       "      <td>Graduated</td>\n",
       "      <td>Graduated</td>\n",
       "      <td>Graduated</td>\n",
       "      <td>Graduated</td>\n",
       "      <td>Graduated</td>\n",
       "    </tr>\n",
       "    <tr>\n",
       "      <th>9999</th>\n",
       "      <td>Freshmen_1</td>\n",
       "      <td>Freshmen_1</td>\n",
       "      <td>Freshmen_1</td>\n",
       "      <td>Freshmen_1</td>\n",
       "      <td>Freshmen_1</td>\n",
       "      <td>Freshmen_n</td>\n",
       "      <td>Sophmore_1</td>\n",
       "      <td>Sophmore_1</td>\n",
       "      <td>Sophmore_n</td>\n",
       "      <td>Junior_1</td>\n",
       "      <td>...</td>\n",
       "      <td>Graduated</td>\n",
       "      <td>Graduated</td>\n",
       "      <td>Graduated</td>\n",
       "      <td>Graduated</td>\n",
       "      <td>Graduated</td>\n",
       "      <td>Graduated</td>\n",
       "      <td>Graduated</td>\n",
       "      <td>Graduated</td>\n",
       "      <td>Graduated</td>\n",
       "      <td>Graduated</td>\n",
       "    </tr>\n",
       "  </tbody>\n",
       "</table>\n",
       "<p>10000 rows × 30 columns</p>\n",
       "</div>"
      ],
      "text/plain": [
       "              0           1           2           3           4           5   \\\n",
       "0     Freshmen_1  Freshmen_1  Freshmen_1  Freshmen_n  Freshmen_n  Freshmen_n   \n",
       "1     Freshmen_1  Freshmen_1  Freshmen_n  Freshmen_n  Freshmen_n  Freshmen_n   \n",
       "2     Freshmen_1  Freshmen_1  Freshmen_1  Freshmen_1  Freshmen_1  Freshmen_n   \n",
       "3     Freshmen_1  Freshmen_n  Freshmen_n  Freshmen_n  Freshmen_n  Freshmen_n   \n",
       "4     Freshmen_n  Freshmen_n  Freshmen_n  Freshmen_n  Freshmen_n  Sophmore_1   \n",
       "...          ...         ...         ...         ...         ...         ...   \n",
       "9995  Freshmen_1  Freshmen_1  Freshmen_n  Freshmen_n  Sophmore_1    Junior_1   \n",
       "9996  Freshmen_1  Freshmen_1  Freshmen_n  Freshmen_n  Freshmen_n  Sophmore_1   \n",
       "9997  Freshmen_1  Freshmen_1  Freshmen_n  Freshmen_n  Freshmen_n  Sophmore_1   \n",
       "9998  Freshmen_1  Freshmen_1  Freshmen_1  Freshmen_1  Freshmen_1  Freshmen_n   \n",
       "9999  Freshmen_1  Freshmen_1  Freshmen_1  Freshmen_1  Freshmen_1  Freshmen_n   \n",
       "\n",
       "              6           7           8           9   ...         20  \\\n",
       "0     Freshmen_n  Sophmore_1  Sophmore_1  Sophmore_n  ...   Senior_1   \n",
       "1     Freshmen_n  Freshmen_n  Sophmore_1  Sophmore_1  ...   Senior_n   \n",
       "2     Sophmore_1  Sophmore_n  Sophmore_n  Sophmore_n  ...  Graduated   \n",
       "3     Sophmore_1  Sophmore_1  Sophmore_1  Sophmore_n  ...  Graduated   \n",
       "4     Sophmore_1    Junior_1    Junior_1    Junior_1  ...  Graduated   \n",
       "...          ...         ...         ...         ...  ...        ...   \n",
       "9995    Junior_1    Junior_n    Junior_n    Junior_n  ...  Graduated   \n",
       "9996  Sophmore_1  Sophmore_1  Sophmore_n    Junior_1  ...  Graduated   \n",
       "9997  Sophmore_1  Sophmore_n  Sophmore_n  Sophmore_n  ...  Graduated   \n",
       "9998  Sophmore_1  Sophmore_n  Sophmore_n    Junior_1  ...   Senior_1   \n",
       "9999  Sophmore_1  Sophmore_1  Sophmore_n    Junior_1  ...  Graduated   \n",
       "\n",
       "             21         22         23         24         25         26  \\\n",
       "0      Senior_1   Senior_1   Senior_1   Senior_n  Graduated  Graduated   \n",
       "1     Graduated  Graduated  Graduated  Graduated  Graduated  Graduated   \n",
       "2     Graduated  Graduated  Graduated  Graduated  Graduated  Graduated   \n",
       "3     Graduated  Graduated  Graduated  Graduated  Graduated  Graduated   \n",
       "4     Graduated  Graduated  Graduated  Graduated  Graduated  Graduated   \n",
       "...         ...        ...        ...        ...        ...        ...   \n",
       "9995  Graduated  Graduated  Graduated  Graduated  Graduated  Graduated   \n",
       "9996  Graduated  Graduated  Graduated  Graduated  Graduated  Graduated   \n",
       "9997  Graduated  Graduated  Graduated  Graduated  Graduated  Graduated   \n",
       "9998   Senior_n  Graduated  Graduated  Graduated  Graduated  Graduated   \n",
       "9999  Graduated  Graduated  Graduated  Graduated  Graduated  Graduated   \n",
       "\n",
       "             27         28         29  \n",
       "0     Graduated  Graduated  Graduated  \n",
       "1     Graduated  Graduated  Graduated  \n",
       "2     Graduated  Graduated  Graduated  \n",
       "3     Graduated  Graduated  Graduated  \n",
       "4     Graduated  Graduated  Graduated  \n",
       "...         ...        ...        ...  \n",
       "9995  Graduated  Graduated  Graduated  \n",
       "9996  Graduated  Graduated  Graduated  \n",
       "9997  Graduated  Graduated  Graduated  \n",
       "9998  Graduated  Graduated  Graduated  \n",
       "9999  Graduated  Graduated  Graduated  \n",
       "\n",
       "[10000 rows x 30 columns]"
      ]
     },
     "execution_count": 9,
     "metadata": {},
     "output_type": "execute_result"
    }
   ],
   "source": [
    "ndf"
   ]
  },
  {
   "cell_type": "markdown",
   "id": "e8aba092-fb16-4922-9658-d749ecc0bf1a",
   "metadata": {
    "tags": []
   },
   "source": [
    "## Student Counts by Semester"
   ]
  },
  {
   "cell_type": "code",
   "execution_count": 15,
   "id": "0c16433d-12ac-4556-ba99-c851a23cc0c1",
   "metadata": {},
   "outputs": [
    {
     "data": {
      "text/plain": [
       "(Freshmen_1    0.8525\n",
       " Freshmen_n    0.1475\n",
       " Name: 0, dtype: float64,\n",
       " Freshmen_1    8525\n",
       " Freshmen_n    1475\n",
       " Name: 0, dtype: int64)"
      ]
     },
     "execution_count": 15,
     "metadata": {},
     "output_type": "execute_result"
    }
   ],
   "source": [
    "ndf[0].value_counts(normalize=True), ndf[0].value_counts()"
   ]
  },
  {
   "cell_type": "code",
   "execution_count": 11,
   "id": "89c64aa8-7eb3-4fdc-b069-e72688706fa1",
   "metadata": {},
   "outputs": [],
   "source": [
    "States = ['Graduated','Senior_n','Senior_1','Junior_n','Junior_1','Sophmore_n','Sophmore_1','Freshmen_n','Freshmen_1']"
   ]
  },
  {
   "cell_type": "code",
   "execution_count": 12,
   "id": "1422068a-dd7e-4676-afce-1c9e82f4989f",
   "metadata": {},
   "outputs": [],
   "source": [
    "Counts = [0,0,0,0,0,0,0,0,0]"
   ]
  },
  {
   "cell_type": "code",
   "execution_count": 13,
   "id": "ae9097d2-b457-43f9-8d88-28d9c7381c7d",
   "metadata": {},
   "outputs": [
    {
     "data": {
      "text/html": [
       "<div>\n",
       "<style scoped>\n",
       "    .dataframe tbody tr th:only-of-type {\n",
       "        vertical-align: middle;\n",
       "    }\n",
       "\n",
       "    .dataframe tbody tr th {\n",
       "        vertical-align: top;\n",
       "    }\n",
       "\n",
       "    .dataframe thead th {\n",
       "        text-align: right;\n",
       "    }\n",
       "</style>\n",
       "<table border=\"1\" class=\"dataframe\">\n",
       "  <thead>\n",
       "    <tr style=\"text-align: right;\">\n",
       "      <th></th>\n",
       "      <th>States</th>\n",
       "    </tr>\n",
       "  </thead>\n",
       "  <tbody>\n",
       "    <tr>\n",
       "      <th>0</th>\n",
       "      <td>Graduated</td>\n",
       "    </tr>\n",
       "    <tr>\n",
       "      <th>1</th>\n",
       "      <td>Senior_n</td>\n",
       "    </tr>\n",
       "    <tr>\n",
       "      <th>2</th>\n",
       "      <td>Senior_1</td>\n",
       "    </tr>\n",
       "    <tr>\n",
       "      <th>3</th>\n",
       "      <td>Junior_n</td>\n",
       "    </tr>\n",
       "    <tr>\n",
       "      <th>4</th>\n",
       "      <td>Junior_1</td>\n",
       "    </tr>\n",
       "    <tr>\n",
       "      <th>5</th>\n",
       "      <td>Sophmore_n</td>\n",
       "    </tr>\n",
       "    <tr>\n",
       "      <th>6</th>\n",
       "      <td>Sophmore_1</td>\n",
       "    </tr>\n",
       "    <tr>\n",
       "      <th>7</th>\n",
       "      <td>Freshmen_n</td>\n",
       "    </tr>\n",
       "    <tr>\n",
       "      <th>8</th>\n",
       "      <td>Freshmen_1</td>\n",
       "    </tr>\n",
       "  </tbody>\n",
       "</table>\n",
       "</div>"
      ],
      "text/plain": [
       "       States\n",
       "0   Graduated\n",
       "1    Senior_n\n",
       "2    Senior_1\n",
       "3    Junior_n\n",
       "4    Junior_1\n",
       "5  Sophmore_n\n",
       "6  Sophmore_1\n",
       "7  Freshmen_n\n",
       "8  Freshmen_1"
      ]
     },
     "execution_count": 13,
     "metadata": {},
     "output_type": "execute_result"
    }
   ],
   "source": [
    "counts = pd.DataFrame(States,columns=['States'])\n",
    "counts"
   ]
  },
  {
   "cell_type": "code",
   "execution_count": 55,
   "id": "2404a538-66ac-4887-ba74-f67fdb87aabc",
   "metadata": {},
   "outputs": [
    {
     "data": {
      "image/png": "[encoded data removed]",
      "text/plain": [
       "<Figure size 576x576 with 1 Axes>"
      ]
     },
     "metadata": {
      "needs_background": "light"
     },
     "output_type": "display_data"
    },
    {
     "data": {
      "image/png": "[encoded data removed]",
      "text/plain": [
       "<Figure size 576x576 with 1 Axes>"
      ]
     },
     "metadata": {
      "needs_background": "light"
     },
     "output_type": "display_data"
    },
    {
     "data": {
      "image/png": "[encoded data removed]",
      "text/plain": [
       "<Figure size 576x576 with 1 Axes>"
      ]
     },
     "metadata": {
      "needs_background": "light"
     },
     "output_type": "display_data"
    },
    {
     "data": {
      "image/png": "[encoded data removed]",
      "text/plain": [
       "<Figure size 576x576 with 1 Axes>"
      ]
     },
     "metadata": {
      "needs_background": "light"
     },
     "output_type": "display_data"
    },
    {
     "data": {
      "image/png": "[encoded data removed]",
      "text/plain": [
       "<Figure size 576x576 with 1 Axes>"
      ]
     },
     "metadata": {
      "needs_background": "light"
     },
     "output_type": "display_data"
    },
    {
     "data": {
      "image/png": "[encoded data removed]",
      "text/plain": [
       "<Figure size 576x576 with 1 Axes>"
      ]
     },
     "metadata": {
      "needs_background": "light"
     },
     "output_type": "display_data"
    },
    {
     "data": {
      "image/png": "[encoded data removed]",
      "text/plain": [
       "<Figure size 576x576 with 1 Axes>"
      ]
     },
     "metadata": {
      "needs_background": "light"
     },
     "output_type": "display_data"
    },
    {
     "data": {
      "image/png": "[encoded data removed]",
      "text/plain": [
       "<Figure size 576x576 with 1 Axes>"
      ]
     },
     "metadata": {
      "needs_background": "light"
     },
     "output_type": "display_data"
    },
    {
     "data": {
      "image/png": "[encoded data removed]",
      "text/plain": [
       "<Figure size 576x576 with 1 Axes>"
      ]
     },
     "metadata": {
      "needs_background": "light"
     },
     "output_type": "display_data"
    },
    {
     "data": {
      "image/png": "[encoded data removed]",
      "text/plain": [
       "<Figure size 576x576 with 1 Axes>"
      ]
     },
     "metadata": {
      "needs_background": "light"
     },
     "output_type": "display_data"
    },
    {
     "data": {
      "image/png": "[encoded data removed]",
      "text/plain": [
       "<Figure size 576x576 with 1 Axes>"
      ]
     },
     "metadata": {
      "needs_background": "light"
     },
     "output_type": "display_data"
    },
    {
     "data": {
      "image/png": "[encoded data removed]",
      "text/plain": [
       "<Figure size 576x576 with 1 Axes>"
      ]
     },
     "metadata": {
      "needs_background": "light"
     },
     "output_type": "display_data"
    },
    {
     "data": {
      "image/png": "[encoded data removed]",
      "text/plain": [
       "<Figure size 576x576 with 1 Axes>"
      ]
     },
     "metadata": {
      "needs_background": "light"
     },
     "output_type": "display_data"
    },
    {
     "data": {
      "image/png": "[encoded data removed]",
      "text/plain": [
       "<Figure size 576x576 with 1 Axes>"
      ]
     },
     "metadata": {
      "needs_background": "light"
     },
     "output_type": "display_data"
    },
    {
     "data": {
      "image/png": "[encoded data removed]",
      "text/plain": [
       "<Figure size 576x576 with 1 Axes>"
      ]
     },
     "metadata": {
      "needs_background": "light"
     },
     "output_type": "display_data"
    },
    {
     "data": {
      "image/png": "[encoded data removed]",
      "text/plain": [
       "<Figure size 576x576 with 1 Axes>"
      ]
     },
     "metadata": {
      "needs_background": "light"
     },
     "output_type": "display_data"
    },
    {
     "data": {
      "image/png": "[encoded data removed]",
      "text/plain": [
       "<Figure size 576x576 with 1 Axes>"
      ]
     },
     "metadata": {
      "needs_background": "light"
     },
     "output_type": "display_data"
    },
    {
     "data": {
      "image/png": "[encoded data removed]",
      "text/plain": [
       "<Figure size 576x576 with 1 Axes>"
      ]
     },
     "metadata": {
      "needs_background": "light"
     },
     "output_type": "display_data"
    },
    {
     "data": {
      "image/png": "[encoded data removed]",
      "text/plain": [
       "<Figure size 576x576 with 1 Axes>"
      ]
     },
     "metadata": {
      "needs_background": "light"
     },
     "output_type": "display_data"
    },
    {
     "data": {
      "image/png": "[encoded data removed]",
      "text/plain": [
       "<Figure size 576x576 with 1 Axes>"
      ]
     },
     "metadata": {
      "needs_background": "light"
     },
     "output_type": "display_data"
    },
    {
     "data": {
      "image/png": "[encoded data removed]",
      "text/plain": [
       "<Figure size 576x576 with 1 Axes>"
      ]
     },
     "metadata": {
      "needs_background": "light"
     },
     "output_type": "display_data"
    },
    {
     "data": {
      "image/png": "[encoded data removed]",
      "text/plain": [
       "<Figure size 576x576 with 1 Axes>"
      ]
     },
     "metadata": {
      "needs_background": "light"
     },
     "output_type": "display_data"
    },
    {
     "data": {
      "image/png": "[encoded data removed]",
      "text/plain": [
       "<Figure size 576x576 with 1 Axes>"
      ]
     },
     "metadata": {
      "needs_background": "light"
     },
     "output_type": "display_data"
    },
    {
     "data": {
      "image/png": "[encoded data removed]",
      "text/plain": [
       "<Figure size 576x576 with 1 Axes>"
      ]
     },
     "metadata": {
      "needs_background": "light"
     },
     "output_type": "display_data"
    },
    {
     "data": {
      "image/png": "[encoded data removed]",
      "text/plain": [
       "<Figure size 576x576 with 1 Axes>"
      ]
     },
     "metadata": {
      "needs_background": "light"
     },
     "output_type": "display_data"
    },
    {
     "data": {
      "image/png": "[encoded data removed]",
      "text/plain": [
       "<Figure size 576x576 with 1 Axes>"
      ]
     },
     "metadata": {
      "needs_background": "light"
     },
     "output_type": "display_data"
    },
    {
     "data": {
      "image/png": "[encoded data removed]",
      "text/plain": [
       "<Figure size 576x576 with 1 Axes>"
      ]
     },
     "metadata": {
      "needs_background": "light"
     },
     "output_type": "display_data"
    },
    {
     "data": {
      "image/png": "[encoded data removed]",
      "text/plain": [
       "<Figure size 576x576 with 1 Axes>"
      ]
     },
     "metadata": {
      "needs_background": "light"
     },
     "output_type": "display_data"
    },
    {
     "data": {
      "image/png": "[encoded data removed]",
      "text/plain": [
       "<Figure size 576x576 with 1 Axes>"
      ]
     },
     "metadata": {
      "needs_background": "light"
     },
     "output_type": "display_data"
    },
    {
     "data": {
      "image/png": "[encoded data removed]",
      "text/plain": [
       "<Figure size 576x576 with 1 Axes>"
      ]
     },
     "metadata": {
      "needs_background": "light"
     },
     "output_type": "display_data"
    }
   ],
   "source": [
    "for x in range(30):\n",
    "    sns.catplot(x = 'States', y = 'Counts', data = ndf[x].value_counts().reset_index().rename(columns={'index':'States',x:'Counts'}),height=8,kind='bar')\n",
    "    plt.show()"
   ]
  },
  {
   "cell_type": "code",
   "execution_count": 25,
   "id": "82a52ece-113f-48dd-9aed-4cdb00eceb09",
   "metadata": {},
   "outputs": [
    {
     "data": {
      "text/plain": [
       "Freshmen_1    8525\n",
       "Freshmen_n    1475\n",
       "Name: 0, dtype: int64"
      ]
     },
     "execution_count": 25,
     "metadata": {},
     "output_type": "execute_result"
    }
   ],
   "source": [
    "ndf[0].value_counts()"
   ]
  },
  {
   "cell_type": "code",
   "execution_count": 26,
   "id": "fb2c27ef-6fbc-40c4-a1d3-787a5bb0771c",
   "metadata": {},
   "outputs": [
    {
     "data": {
      "text/plain": [
       "Freshmen_1    5653\n",
       "Freshmen_n    3931\n",
       "Sophmore_1     416\n",
       "Name: 1, dtype: int64"
      ]
     },
     "execution_count": 26,
     "metadata": {},
     "output_type": "execute_result"
    }
   ],
   "source": [
    "ndf[1].value_counts()"
   ]
  },
  {
   "cell_type": "code",
   "execution_count": 27,
   "id": "35e5d7e6-7b13-4369-b2d2-a71733697516",
   "metadata": {},
   "outputs": [
    {
     "data": {
      "text/plain": [
       "Freshmen_n    4818\n",
       "Freshmen_1    3337\n",
       "Sophmore_1    1731\n",
       "Sophmore_n     114\n",
       "Name: 2, dtype: int64"
      ]
     },
     "execution_count": 27,
     "metadata": {},
     "output_type": "execute_result"
    }
   ],
   "source": [
    "ndf[2].value_counts()"
   ]
  },
  {
   "cell_type": "code",
   "execution_count": 28,
   "id": "ad31cc83-7204-418e-8cf6-6898f5d6b741",
   "metadata": {},
   "outputs": [
    {
     "data": {
      "text/plain": [
       "Freshmen_n    4251\n",
       "Sophmore_1    3142\n",
       "Freshmen_1    1870\n",
       "Sophmore_n     707\n",
       "Junior_1        30\n",
       "Name: 3, dtype: int64"
      ]
     },
     "execution_count": 28,
     "metadata": {},
     "output_type": "execute_result"
    }
   ],
   "source": [
    "ndf[3].value_counts()"
   ]
  },
  {
   "cell_type": "code",
   "execution_count": 29,
   "id": "e490ff33-a147-45df-b725-1eee8ff1e497",
   "metadata": {},
   "outputs": [
    {
     "data": {
      "text/plain": [
       "Sophmore_1    3844\n",
       "Freshmen_n    3228\n",
       "Sophmore_n    1650\n",
       "Freshmen_1    1003\n",
       "Junior_1       267\n",
       "Junior_n         8\n",
       "Name: 4, dtype: int64"
      ]
     },
     "execution_count": 29,
     "metadata": {},
     "output_type": "execute_result"
    }
   ],
   "source": [
    "ndf[4].value_counts()"
   ]
  },
  {
   "cell_type": "code",
   "execution_count": 30,
   "id": "8a073c1b-185d-4e4e-87f0-6c0f1349d0ce",
   "metadata": {},
   "outputs": [
    {
     "data": {
      "text/plain": [
       "Sophmore_1    3741\n",
       "Sophmore_n    2573\n",
       "Freshmen_n    2272\n",
       "Junior_1       805\n",
       "Freshmen_1     496\n",
       "Junior_n       109\n",
       "Senior_1         4\n",
       "Name: 5, dtype: int64"
      ]
     },
     "execution_count": 30,
     "metadata": {},
     "output_type": "execute_result"
    }
   ],
   "source": [
    "ndf[5].value_counts()"
   ]
  },
  {
   "cell_type": "code",
   "execution_count": 31,
   "id": "4a3eb078-17a9-4941-9601-462881382795",
   "metadata": {},
   "outputs": [
    {
     "data": {
      "text/plain": [
       "Sophmore_1    3206\n",
       "Sophmore_n    3074\n",
       "Junior_1      1568\n",
       "Freshmen_n    1465\n",
       "Junior_n       395\n",
       "Freshmen_1     257\n",
       "Senior_1        35\n",
       "Name: 6, dtype: int64"
      ]
     },
     "execution_count": 31,
     "metadata": {},
     "output_type": "execute_result"
    }
   ],
   "source": [
    "ndf[6].value_counts()"
   ]
  },
  {
   "cell_type": "code",
   "execution_count": 32,
   "id": "8c01fa35-868c-4676-9c93-755b8beaffde",
   "metadata": {},
   "outputs": [
    {
     "data": {
      "text/plain": [
       "Sophmore_n    3244\n",
       "Sophmore_1    2440\n",
       "Junior_1      2252\n",
       "Freshmen_n     896\n",
       "Junior_n       876\n",
       "Senior_1       146\n",
       "Freshmen_1     137\n",
       "Senior_n         9\n",
       "Name: 7, dtype: int64"
      ]
     },
     "execution_count": 32,
     "metadata": {},
     "output_type": "execute_result"
    }
   ],
   "source": [
    "ndf[7].value_counts()"
   ]
  },
  {
   "cell_type": "code",
   "execution_count": 33,
   "id": "bf948b5e-891e-4441-a4b3-e922f055a1c1",
   "metadata": {},
   "outputs": [
    {
     "data": {
      "text/plain": [
       "Sophmore_n    3016\n",
       "Junior_1      2661\n",
       "Sophmore_1    1794\n",
       "Junior_n      1398\n",
       "Freshmen_n     528\n",
       "Senior_1       468\n",
       "Senior_n        68\n",
       "Freshmen_1      63\n",
       "Graduated        4\n",
       "Name: 8, dtype: int64"
      ]
     },
     "execution_count": 33,
     "metadata": {},
     "output_type": "execute_result"
    }
   ],
   "source": [
    "ndf[8].value_counts()"
   ]
  },
  {
   "cell_type": "code",
   "execution_count": 34,
   "id": "254570ed-8b90-4743-846d-41f3ef32573a",
   "metadata": {},
   "outputs": [
    {
     "data": {
      "text/plain": [
       "Junior_1      2803\n",
       "Sophmore_n    2589\n",
       "Junior_n      1968\n",
       "Sophmore_1    1204\n",
       "Senior_1       837\n",
       "Freshmen_n     321\n",
       "Senior_n       210\n",
       "Freshmen_1      35\n",
       "Graduated       33\n",
       "Name: 9, dtype: int64"
      ]
     },
     "execution_count": 34,
     "metadata": {},
     "output_type": "execute_result"
    }
   ],
   "source": [
    "ndf[9].value_counts()"
   ]
  },
  {
   "cell_type": "code",
   "execution_count": 35,
   "id": "130e1383-f73d-456a-942a-dd16f20707ac",
   "metadata": {},
   "outputs": [
    {
     "data": {
      "text/plain": [
       "Junior_1      2736\n",
       "Junior_n      2429\n",
       "Sophmore_n    1961\n",
       "Senior_1      1286\n",
       "Sophmore_1     840\n",
       "Senior_n       441\n",
       "Freshmen_n     170\n",
       "Graduated      119\n",
       "Freshmen_1      18\n",
       "Name: 10, dtype: int64"
      ]
     },
     "execution_count": 35,
     "metadata": {},
     "output_type": "execute_result"
    }
   ],
   "source": [
    "ndf[10].value_counts()"
   ]
  },
  {
   "cell_type": "code",
   "execution_count": 36,
   "id": "5084dbd0-0168-466d-96ff-5c5d233775c7",
   "metadata": {},
   "outputs": [
    {
     "data": {
      "text/plain": [
       "Junior_n      2572\n",
       "Junior_1      2426\n",
       "Senior_1      1787\n",
       "Sophmore_n    1494\n",
       "Senior_n       810\n",
       "Sophmore_1     515\n",
       "Graduated      290\n",
       "Freshmen_n      99\n",
       "Freshmen_1       7\n",
       "Name: 11, dtype: int64"
      ]
     },
     "execution_count": 36,
     "metadata": {},
     "output_type": "execute_result"
    }
   ],
   "source": [
    "ndf[11].value_counts()"
   ]
  },
  {
   "cell_type": "code",
   "execution_count": 37,
   "id": "fb4cb6f7-1110-45b1-82df-c2fbc870b722",
   "metadata": {},
   "outputs": [
    {
     "data": {
      "text/plain": [
       "Junior_n      2574\n",
       "Senior_1      2183\n",
       "Junior_1      2048\n",
       "Senior_n      1162\n",
       "Sophmore_n    1013\n",
       "Graduated      622\n",
       "Sophmore_1     337\n",
       "Freshmen_n      59\n",
       "Freshmen_1       2\n",
       "Name: 12, dtype: int64"
      ]
     },
     "execution_count": 37,
     "metadata": {},
     "output_type": "execute_result"
    }
   ],
   "source": [
    "ndf[12].value_counts()"
   ]
  },
  {
   "cell_type": "code",
   "execution_count": 38,
   "id": "efefac11-4e68-49d2-b14d-d6546d63607e",
   "metadata": {},
   "outputs": [
    {
     "data": {
      "text/plain": [
       "Senior_1      2391\n",
       "Junior_n      2339\n",
       "Junior_1      1638\n",
       "Senior_n      1604\n",
       "Graduated     1090\n",
       "Sophmore_n     703\n",
       "Sophmore_1     199\n",
       "Freshmen_n      35\n",
       "Freshmen_1       1\n",
       "Name: 13, dtype: int64"
      ]
     },
     "execution_count": 38,
     "metadata": {},
     "output_type": "execute_result"
    }
   ],
   "source": [
    "ndf[13].value_counts()"
   ]
  },
  {
   "cell_type": "code",
   "execution_count": 39,
   "id": "90ad347b-adca-4075-98e7-4cd7e42e726c",
   "metadata": {},
   "outputs": [
    {
     "data": {
      "text/plain": [
       "Senior_1      2406\n",
       "Junior_n      2022\n",
       "Senior_n      1949\n",
       "Graduated     1768\n",
       "Junior_1      1236\n",
       "Sophmore_n     479\n",
       "Sophmore_1     117\n",
       "Freshmen_n      23\n",
       "Name: 14, dtype: int64"
      ]
     },
     "execution_count": 39,
     "metadata": {},
     "output_type": "execute_result"
    }
   ],
   "source": [
    "ndf[14].value_counts()"
   ]
  },
  {
   "cell_type": "code",
   "execution_count": 40,
   "id": "82c9b8bf-dade-4a6f-990d-90b4a7dffb10",
   "metadata": {},
   "outputs": [
    {
     "data": {
      "text/plain": [
       "Graduated     2584\n",
       "Senior_1      2275\n",
       "Senior_n      2158\n",
       "Junior_n      1696\n",
       "Junior_1       902\n",
       "Sophmore_n     298\n",
       "Sophmore_1      80\n",
       "Freshmen_n       7\n",
       "Name: 15, dtype: int64"
      ]
     },
     "execution_count": 40,
     "metadata": {},
     "output_type": "execute_result"
    }
   ],
   "source": [
    "ndf[15].value_counts()"
   ]
  },
  {
   "cell_type": "code",
   "execution_count": 41,
   "id": "e6fde03c-55c6-4bbe-aee2-03ee6f2ccfa8",
   "metadata": {},
   "outputs": [
    {
     "data": {
      "text/plain": [
       "Graduated     3470\n",
       "Senior_n      2288\n",
       "Senior_1      1998\n",
       "Junior_n      1378\n",
       "Junior_1       622\n",
       "Sophmore_n     203\n",
       "Sophmore_1      39\n",
       "Freshmen_n       2\n",
       "Name: 16, dtype: int64"
      ]
     },
     "execution_count": 41,
     "metadata": {},
     "output_type": "execute_result"
    }
   ],
   "source": [
    "ndf[16].value_counts()"
   ]
  },
  {
   "cell_type": "code",
   "execution_count": 42,
   "id": "2bda95ee-4254-4358-9cbe-834027193da5",
   "metadata": {},
   "outputs": [
    {
     "data": {
      "text/plain": [
       "Graduated     4458\n",
       "Senior_n      2181\n",
       "Senior_1      1763\n",
       "Junior_n      1020\n",
       "Junior_1       434\n",
       "Sophmore_n     121\n",
       "Sophmore_1      21\n",
       "Freshmen_n       2\n",
       "Name: 17, dtype: int64"
      ]
     },
     "execution_count": 42,
     "metadata": {},
     "output_type": "execute_result"
    }
   ],
   "source": [
    "ndf[17].value_counts()"
   ]
  },
  {
   "cell_type": "code",
   "execution_count": 43,
   "id": "89c9501a-856c-4444-a037-010cc05f7b1a",
   "metadata": {},
   "outputs": [
    {
     "data": {
      "text/plain": [
       "Graduated     5407\n",
       "Senior_n      1977\n",
       "Senior_1      1467\n",
       "Junior_n       755\n",
       "Junior_1       300\n",
       "Sophmore_n      84\n",
       "Sophmore_1       9\n",
       "Freshmen_n       1\n",
       "Name: 18, dtype: int64"
      ]
     },
     "execution_count": 43,
     "metadata": {},
     "output_type": "execute_result"
    }
   ],
   "source": [
    "ndf[18].value_counts()"
   ]
  },
  {
   "cell_type": "code",
   "execution_count": 44,
   "id": "d6147b6b-46d2-405d-b392-fa3e1f12e253",
   "metadata": {},
   "outputs": [
    {
     "data": {
      "text/plain": [
       "Graduated     6291\n",
       "Senior_n      1725\n",
       "Senior_1      1201\n",
       "Junior_n       525\n",
       "Junior_1       198\n",
       "Sophmore_n      53\n",
       "Sophmore_1       7\n",
       "Name: 19, dtype: int64"
      ]
     },
     "execution_count": 44,
     "metadata": {},
     "output_type": "execute_result"
    }
   ],
   "source": [
    "ndf[19].value_counts()"
   ]
  },
  {
   "cell_type": "code",
   "execution_count": 45,
   "id": "e49b42f8-863a-4295-9c49-dcc716e6fcc4",
   "metadata": {},
   "outputs": [
    {
     "data": {
      "text/plain": [
       "Graduated     7048\n",
       "Senior_n      1450\n",
       "Senior_1       941\n",
       "Junior_n       409\n",
       "Junior_1       117\n",
       "Sophmore_n      32\n",
       "Sophmore_1       3\n",
       "Name: 20, dtype: int64"
      ]
     },
     "execution_count": 45,
     "metadata": {},
     "output_type": "execute_result"
    }
   ],
   "source": [
    "ndf[20].value_counts()"
   ]
  },
  {
   "cell_type": "code",
   "execution_count": 46,
   "id": "71e6a525-46de-4e7e-9541-14295dffbd58",
   "metadata": {},
   "outputs": [
    {
     "data": {
      "text/plain": [
       "Graduated     7736\n",
       "Senior_n      1201\n",
       "Senior_1       688\n",
       "Junior_n       283\n",
       "Junior_1        70\n",
       "Sophmore_n      20\n",
       "Sophmore_1       2\n",
       "Name: 21, dtype: int64"
      ]
     },
     "execution_count": 46,
     "metadata": {},
     "output_type": "execute_result"
    }
   ],
   "source": [
    "ndf[21].value_counts()"
   ]
  },
  {
   "cell_type": "code",
   "execution_count": 47,
   "id": "15c71510-0d63-4701-93fa-f04ba8b73811",
   "metadata": {},
   "outputs": [
    {
     "data": {
      "text/plain": [
       "Graduated     8320\n",
       "Senior_n       946\n",
       "Senior_1       484\n",
       "Junior_n       196\n",
       "Junior_1        39\n",
       "Sophmore_n      13\n",
       "Sophmore_1       2\n",
       "Name: 22, dtype: int64"
      ]
     },
     "execution_count": 47,
     "metadata": {},
     "output_type": "execute_result"
    }
   ],
   "source": [
    "ndf[22].value_counts()"
   ]
  },
  {
   "cell_type": "code",
   "execution_count": 48,
   "id": "a640902e-2bdd-4d56-8611-147663172209",
   "metadata": {},
   "outputs": [
    {
     "data": {
      "text/plain": [
       "Graduated     8763\n",
       "Senior_n       724\n",
       "Senior_1       361\n",
       "Junior_n       116\n",
       "Junior_1        27\n",
       "Sophmore_n       7\n",
       "Sophmore_1       2\n",
       "Name: 23, dtype: int64"
      ]
     },
     "execution_count": 48,
     "metadata": {},
     "output_type": "execute_result"
    }
   ],
   "source": [
    "ndf[23].value_counts()"
   ]
  },
  {
   "cell_type": "code",
   "execution_count": 49,
   "id": "d80c05a9-814f-4fa6-801b-fe2247f91eb6",
   "metadata": {},
   "outputs": [
    {
     "data": {
      "text/plain": [
       "Graduated     9064\n",
       "Senior_n       579\n",
       "Senior_1       264\n",
       "Junior_n        70\n",
       "Junior_1        18\n",
       "Sophmore_n       5\n",
       "Name: 24, dtype: int64"
      ]
     },
     "execution_count": 49,
     "metadata": {},
     "output_type": "execute_result"
    }
   ],
   "source": [
    "ndf[24].value_counts()"
   ]
  },
  {
   "cell_type": "code",
   "execution_count": 50,
   "id": "c930ea7e-afe8-4190-a431-2b9d99ca2a19",
   "metadata": {},
   "outputs": [
    {
     "data": {
      "text/plain": [
       "Graduated     9306\n",
       "Senior_n       458\n",
       "Senior_1       181\n",
       "Junior_n        38\n",
       "Junior_1        15\n",
       "Sophmore_n       2\n",
       "Name: 25, dtype: int64"
      ]
     },
     "execution_count": 50,
     "metadata": {},
     "output_type": "execute_result"
    }
   ],
   "source": [
    "ndf[25].value_counts()"
   ]
  },
  {
   "cell_type": "code",
   "execution_count": 51,
   "id": "662aa424-ad11-4ab6-a9f8-ee872eefdf27",
   "metadata": {},
   "outputs": [
    {
     "data": {
      "text/plain": [
       "Graduated     9523\n",
       "Senior_n       335\n",
       "Senior_1       112\n",
       "Junior_n        18\n",
       "Junior_1        10\n",
       "Sophmore_n       2\n",
       "Name: 26, dtype: int64"
      ]
     },
     "execution_count": 51,
     "metadata": {},
     "output_type": "execute_result"
    }
   ],
   "source": [
    "ndf[26].value_counts()"
   ]
  },
  {
   "cell_type": "code",
   "execution_count": 52,
   "id": "2b36fbbd-5635-44fa-8dd3-8e6a96feb99b",
   "metadata": {},
   "outputs": [
    {
     "data": {
      "text/plain": [
       "Graduated    9671\n",
       "Senior_n      240\n",
       "Senior_1       70\n",
       "Junior_n       12\n",
       "Junior_1        7\n",
       "Name: 27, dtype: int64"
      ]
     },
     "execution_count": 52,
     "metadata": {},
     "output_type": "execute_result"
    }
   ],
   "source": [
    "ndf[27].value_counts()"
   ]
  },
  {
   "cell_type": "code",
   "execution_count": 53,
   "id": "d3874b30-8cc7-4af5-8239-2799a92ac86d",
   "metadata": {},
   "outputs": [
    {
     "data": {
      "text/plain": [
       "Graduated    9774\n",
       "Senior_n      170\n",
       "Senior_1       45\n",
       "Junior_n        7\n",
       "Junior_1        4\n",
       "Name: 28, dtype: int64"
      ]
     },
     "execution_count": 53,
     "metadata": {},
     "output_type": "execute_result"
    }
   ],
   "source": [
    "ndf[28].value_counts()"
   ]
  },
  {
   "cell_type": "code",
   "execution_count": 54,
   "id": "269eafe5-bebc-42a7-aa04-5b52136a3dd3",
   "metadata": {},
   "outputs": [
    {
     "data": {
      "text/plain": [
       "Graduated    9856\n",
       "Senior_n      107\n",
       "Senior_1       27\n",
       "Junior_n        8\n",
       "Junior_1        2\n",
       "Name: 29, dtype: int64"
      ]
     },
     "execution_count": 54,
     "metadata": {},
     "output_type": "execute_result"
    }
   ],
   "source": [
    "ndf[29].value_counts()"
   ]
  },
  {
   "cell_type": "markdown",
   "id": "5e2540f9-04f4-4bfe-855c-93854febb2da",
   "metadata": {},
   "source": [
    "## Probability of changing states"
   ]
  },
  {
   "cell_type": "code",
   "execution_count": null,
   "id": "f3f40635-c87f-4f19-a64c-ec7228c65146",
   "metadata": {},
   "outputs": [],
   "source": []
  },
  {
   "cell_type": "code",
   "execution_count": null,
   "id": "d4f45d00-bdff-45d6-8124-3f33635a1efd",
   "metadata": {},
   "outputs": [],
   "source": []
  },
  {
   "cell_type": "code",
   "execution_count": null,
   "id": "a2797923-dd6c-4506-9a2c-b8666e584ca0",
   "metadata": {},
   "outputs": [],
   "source": []
  },
  {
   "cell_type": "code",
   "execution_count": null,
   "id": "e963d674-04d0-458e-92a0-46dd2777b99d",
   "metadata": {},
   "outputs": [],
   "source": []
  }
 ],
 "metadata": {
  "kernelspec": {
   "display_name": "Python 3 (ipykernel)",
   "language": "python",
   "name": "python3"
  },
  "language_info": {
   "codemirror_mode": {
    "name": "ipython",
    "version": 3
   },
   "file_extension": ".py",
   "mimetype": "text/x-python",
   "name": "python",
   "nbconvert_exporter": "python",
   "pygments_lexer": "ipython3",
   "version": "3.9.7"
  }
 },
 "nbformat": 4,
 "nbformat_minor": 5
}
